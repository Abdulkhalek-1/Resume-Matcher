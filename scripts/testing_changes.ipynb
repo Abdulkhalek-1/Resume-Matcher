{
 "cells": [
  {
   "cell_type": "code",
   "id": "initial_id",
   "metadata": {
    "collapsed": true,
    "ExecuteTime": {
     "end_time": "2024-08-31T21:21:59.597784Z",
     "start_time": "2024-08-31T21:21:59.568016Z"
    }
   },
   "source": "import DocumentTextExtractor as dte",
   "outputs": [],
   "execution_count": 1
  },
  {
   "metadata": {
    "ExecuteTime": {
     "end_time": "2024-08-31T21:22:02.674680Z",
     "start_time": "2024-08-31T21:22:02.667929Z"
    }
   },
   "cell_type": "code",
   "source": "dte.DocumentLoader",
   "id": "90a0cbcaae321923",
   "outputs": [
    {
     "data": {
      "text/plain": [
       "DocumentTextExtractor.DocumentLoader"
      ]
     },
     "execution_count": 2,
     "metadata": {},
     "output_type": "execute_result"
    }
   ],
   "execution_count": 2
  },
  {
   "metadata": {
    "ExecuteTime": {
     "end_time": "2024-08-31T21:22:04.843581Z",
     "start_time": "2024-08-31T21:22:04.815918Z"
    }
   },
   "cell_type": "code",
   "source": [
    "input_file = 'alfred_pennyworth_pm.pdf'\n",
    "output_file = 'output.txt'\n",
    "dte.process_file(input_file, output_file)"
   ],
   "id": "ed02a8994bc01c07",
   "outputs": [
    {
     "name": "stdout",
     "output_type": "stream",
     "text": [
      "Alfred Pennyworth Product ManagerSilicon Valley, CA, USA ♂¶obile-alt(123) 456-7890 /envel⌢pealfred.pennyworth@email.com /linkedin-inapennyworth /githubapennyworth Professional Summary Seasoned Product Manager with over 20 years of experience in software development and product management, having worked at all FAANG companies. Exceptional leadership skills, strategic thinking, and a track record of managing products from conception to market success. Skills Product management, Agile methodologies, Leadership, Communication, Project management, User Experience Design, Market Research, Data Analysis, Java, Python, JavaScript, HTML/CSS, SQL, AWS Experience 2017 – PresentProduct Manager ,Google , Mountain View, CA, USA Leading cross-functional teams to design, develop, and launch innovative products. Devel- oping product strategies and making data-driven decisions to improve user experience and meet business goals. 2012 – 2017 Software Development Engineer III ,Amazon , Seattle, WA, USA Led a team of developers in building scalable and high-performing e-commerce applications. Successfully delivered multiple projects within the stipulated time and budget. 2007 – 2012 Software Development Engineer II ,Apple , Cupertino, CA, USA Designed and implemented software components for various Apple services. Optimized the performance of applications and improved code quality through thorough testing. 2002 – 2007 Software Development Engineer I ,Netflix , Los Gatos, CA, USA Developed and maintained the user interface for the Netflix web application. Worked closely with product managers and designers to create an optimal user experience. 1999 – 2002 Software Development Engineer I ,Facebook , Menlo Park, CA, USA Played a key role in the development of early Facebook features. Implemented scalable back-end services using Java and SQL. Education 2016 – 2018 Master of Business Administration ,Stanford University , Stanford, CA, USA 1997 – 1999 Master of Science in Computer Science ,Massachusetts Institute of Technology , Cambridge, MA, USA 1994 – 1997 Bachelor of Science in Computer Science ,University of California, Berkeley , Berkeley, CA, USA Projects 1/22020 – PresentPersonal Project: Home Automation System Developed a smart home automation system using Raspberry Pi and Python. The system automates various home appliances based on user behavior and preferences, contributing to energy saving and improved user convenience. 2/2\n",
      "Successfully processed alfred_pennyworth_pm.pdf and saved to output.txt\n"
     ]
    }
   ],
   "execution_count": 3
  },
  {
   "metadata": {
    "ExecuteTime": {
     "end_time": "2024-08-31T21:21:29.830733Z",
     "start_time": "2024-08-31T21:21:29.829325Z"
    }
   },
   "cell_type": "code",
   "source": "",
   "id": "c8eca284271a0df",
   "outputs": [],
   "execution_count": null
  }
 ],
 "metadata": {
  "kernelspec": {
   "display_name": "Python 3",
   "language": "python",
   "name": "python3"
  },
  "language_info": {
   "codemirror_mode": {
    "name": "ipython",
    "version": 2
   },
   "file_extension": ".py",
   "mimetype": "text/x-python",
   "name": "python",
   "nbconvert_exporter": "python",
   "pygments_lexer": "ipython2",
   "version": "2.7.6"
  }
 },
 "nbformat": 4,
 "nbformat_minor": 5
}
